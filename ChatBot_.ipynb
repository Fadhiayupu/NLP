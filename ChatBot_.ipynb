{
  "nbformat": 4,
  "nbformat_minor": 0,
  "metadata": {
    "colab": {
      "name": "ChatBot_.ipynb",
      "provenance": [],
      "include_colab_link": true
    },
    "kernelspec": {
      "name": "python3",
      "display_name": "Python 3"
    },
    "language_info": {
      "name": "python"
    }
  },
  "cells": [
    {
      "cell_type": "markdown",
      "metadata": {
        "id": "view-in-github",
        "colab_type": "text"
      },
      "source": [
        "<a href=\"https://colab.research.google.com/github/Fadhiayupu/NLP/blob/main/ChatBot_.ipynb\" target=\"_parent\"><img src=\"https://colab.research.google.com/assets/colab-badge.svg\" alt=\"Open In Colab\"/></a>"
      ]
    },
    {
      "cell_type": "code",
      "metadata": {
        "colab": {
          "base_uri": "https://localhost:8080/"
        },
        "id": "DPSnDk_NPBQb",
        "outputId": "5599f9df-db96-4a34-98c3-6ef997116ec1"
      },
      "source": [
        "!pip install newspaper3k"
      ],
      "execution_count": null,
      "outputs": [
        {
          "output_type": "stream",
          "name": "stdout",
          "text": [
            "Collecting newspaper3k\n",
            "  Downloading newspaper3k-0.2.8-py3-none-any.whl (211 kB)\n",
            "\u001b[K     |████████████████████████████████| 211 kB 7.1 MB/s \n",
            "\u001b[?25hRequirement already satisfied: beautifulsoup4>=4.4.1 in /usr/local/lib/python3.7/dist-packages (from newspaper3k) (4.6.3)\n",
            "Requirement already satisfied: lxml>=3.6.0 in /usr/local/lib/python3.7/dist-packages (from newspaper3k) (4.2.6)\n",
            "Requirement already satisfied: Pillow>=3.3.0 in /usr/local/lib/python3.7/dist-packages (from newspaper3k) (7.1.2)\n",
            "Collecting jieba3k>=0.35.1\n",
            "  Downloading jieba3k-0.35.1.zip (7.4 MB)\n",
            "\u001b[K     |████████████████████████████████| 7.4 MB 18.9 MB/s \n",
            "\u001b[?25hRequirement already satisfied: python-dateutil>=2.5.3 in /usr/local/lib/python3.7/dist-packages (from newspaper3k) (2.8.2)\n",
            "Collecting feedparser>=5.2.1\n",
            "  Downloading feedparser-6.0.8-py3-none-any.whl (81 kB)\n",
            "\u001b[K     |████████████████████████████████| 81 kB 12.9 MB/s \n",
            "\u001b[?25hCollecting feedfinder2>=0.0.4\n",
            "  Downloading feedfinder2-0.0.4.tar.gz (3.3 kB)\n",
            "Requirement already satisfied: PyYAML>=3.11 in /usr/local/lib/python3.7/dist-packages (from newspaper3k) (3.13)\n",
            "Requirement already satisfied: requests>=2.10.0 in /usr/local/lib/python3.7/dist-packages (from newspaper3k) (2.23.0)\n",
            "Collecting tinysegmenter==0.3\n",
            "  Downloading tinysegmenter-0.3.tar.gz (16 kB)\n",
            "Requirement already satisfied: nltk>=3.2.1 in /usr/local/lib/python3.7/dist-packages (from newspaper3k) (3.2.5)\n",
            "Collecting tldextract>=2.0.1\n",
            "  Downloading tldextract-3.1.2-py2.py3-none-any.whl (87 kB)\n",
            "\u001b[K     |████████████████████████████████| 87 kB 8.4 MB/s \n",
            "\u001b[?25hCollecting cssselect>=0.9.2\n",
            "  Downloading cssselect-1.1.0-py2.py3-none-any.whl (16 kB)\n",
            "Requirement already satisfied: six in /usr/local/lib/python3.7/dist-packages (from feedfinder2>=0.0.4->newspaper3k) (1.15.0)\n",
            "Collecting sgmllib3k\n",
            "  Downloading sgmllib3k-1.0.0.tar.gz (5.8 kB)\n",
            "Requirement already satisfied: chardet<4,>=3.0.2 in /usr/local/lib/python3.7/dist-packages (from requests>=2.10.0->newspaper3k) (3.0.4)\n",
            "Requirement already satisfied: idna<3,>=2.5 in /usr/local/lib/python3.7/dist-packages (from requests>=2.10.0->newspaper3k) (2.10)\n",
            "Requirement already satisfied: certifi>=2017.4.17 in /usr/local/lib/python3.7/dist-packages (from requests>=2.10.0->newspaper3k) (2021.10.8)\n",
            "Requirement already satisfied: urllib3!=1.25.0,!=1.25.1,<1.26,>=1.21.1 in /usr/local/lib/python3.7/dist-packages (from requests>=2.10.0->newspaper3k) (1.24.3)\n",
            "Collecting requests-file>=1.4\n",
            "  Downloading requests_file-1.5.1-py2.py3-none-any.whl (3.7 kB)\n",
            "Requirement already satisfied: filelock>=3.0.8 in /usr/local/lib/python3.7/dist-packages (from tldextract>=2.0.1->newspaper3k) (3.4.0)\n",
            "Building wheels for collected packages: tinysegmenter, feedfinder2, jieba3k, sgmllib3k\n",
            "  Building wheel for tinysegmenter (setup.py) ... \u001b[?25l\u001b[?25hdone\n",
            "  Created wheel for tinysegmenter: filename=tinysegmenter-0.3-py3-none-any.whl size=13552 sha256=12c7ffffb71dda315bd17f38b653845a7e80a6fa937c293d3b63156c70850e31\n",
            "  Stored in directory: /root/.cache/pip/wheels/df/67/41/faca10fa501ca010be41b49d40360c2959e1c4f09bcbfa37fa\n",
            "  Building wheel for feedfinder2 (setup.py) ... \u001b[?25l\u001b[?25hdone\n",
            "  Created wheel for feedfinder2: filename=feedfinder2-0.0.4-py3-none-any.whl size=3356 sha256=f1055c4da4be3e9249251b06f66fc0319f5f139930c35f2314366811b4ed376a\n",
            "  Stored in directory: /root/.cache/pip/wheels/7f/d4/8f/6e2ca54744c9d7292d88ddb8d42876bcdab5e6d84a21c10346\n",
            "  Building wheel for jieba3k (setup.py) ... \u001b[?25l\u001b[?25hdone\n",
            "  Created wheel for jieba3k: filename=jieba3k-0.35.1-py3-none-any.whl size=7398405 sha256=c3dafd665162a1c3406296dc8093fcbdd84b2dd3c52b81e2f65d1ee3394aedcf\n",
            "  Stored in directory: /root/.cache/pip/wheels/4c/91/46/3c208287b726df325a5979574324878b679116e4baae1af3c3\n",
            "  Building wheel for sgmllib3k (setup.py) ... \u001b[?25l\u001b[?25hdone\n",
            "  Created wheel for sgmllib3k: filename=sgmllib3k-1.0.0-py3-none-any.whl size=6065 sha256=a6e53aa3f6b7106ee5f726ea6c7fda8e92dbd8dab16739dea820e2d9abccddce\n",
            "  Stored in directory: /root/.cache/pip/wheels/73/ad/a4/0dff4a6ef231fc0dfa12ffbac2a36cebfdddfe059f50e019aa\n",
            "Successfully built tinysegmenter feedfinder2 jieba3k sgmllib3k\n",
            "Installing collected packages: sgmllib3k, requests-file, tldextract, tinysegmenter, jieba3k, feedparser, feedfinder2, cssselect, newspaper3k\n",
            "Successfully installed cssselect-1.1.0 feedfinder2-0.0.4 feedparser-6.0.8 jieba3k-0.35.1 newspaper3k-0.2.8 requests-file-1.5.1 sgmllib3k-1.0.0 tinysegmenter-0.3 tldextract-3.1.2\n"
          ]
        }
      ]
    },
    {
      "cell_type": "code",
      "metadata": {
        "id": "rJOsCadvT34_"
      },
      "source": [
        "# Import library\n",
        "from newspaper import Article\n",
        "import random\n",
        "import nltk\n",
        "import string\n",
        "from sklearn.feature_extraction.text import CountVectorizer\n",
        "from sklearn.metrics.pairwise import cosine_similarity\n",
        "import numpy as np\n",
        "import warnings\n",
        "warnings.filterwarnings('ignore')"
      ],
      "execution_count": null,
      "outputs": []
    },
    {
      "cell_type": "code",
      "metadata": {
        "colab": {
          "base_uri": "https://localhost:8080/"
        },
        "id": "piO3_Pp6T9sU",
        "outputId": "e36d8334-e4d1-4fb4-a246-dd82d9b92b9d"
      },
      "source": [
        "nltk.download('punkt', quiet=True)"
      ],
      "execution_count": null,
      "outputs": [
        {
          "output_type": "execute_result",
          "data": {
            "text/plain": [
              "True"
            ]
          },
          "metadata": {},
          "execution_count": 4
        }
      ]
    },
    {
      "cell_type": "code",
      "metadata": {
        "colab": {
          "base_uri": "https://localhost:8080/"
        },
        "id": "W2aGqGVwUa21",
        "outputId": "0bf6e0c2-244b-46d9-b44c-6090c9e84a1a"
      },
      "source": [
        "article = Article(\"https://www.cnnindonesia.com/ekonomi/20210328084532-92-622951/saham-nike-dan-adidas-rontok-usai-diboikot-china\")\n",
        "article.download()\n",
        "article.parse()\n",
        "article.nlp()\n",
        "corpus1 = article.text\n",
        "print(corpus1)"
      ],
      "execution_count": null,
      "outputs": [
        {
          "output_type": "stream",
          "name": "stdout",
          "text": [
            "Jakarta, CNN Indonesia --\n",
            "\n",
            "Saham produsen alas kaki atau sepatu Nike, Adidas, dan beberapa merek lainnya rontok usai China mem-boikot merek-merek fesyen barat. Saham merosot karena investor khawatir menaruh uang mereka ke perusahaan-perusahaan tersebut.\n",
            "\n",
            "Mengutip CNN Business, saham Nike turun lebih dari tiga persen pada Kamis (25/3) waktu setempat di Wall Street, sedangkan saham Adidas tenggelam lebih dari enam persen di Frankfurt.\n",
            "\n",
            "Sementara di London, Inggris, saham Burberry melorot lebih dari empat persen. Saham H&M juga terpantau turun dua persen di Swedia.\n",
            "\n",
            "Badai politik yang melanda China dipicu oleh postingan di media sosial dari sebuah kelompok yang berkaitan dengan Partai Komunis yang berkuasa.\n",
            "\n",
            "Akibat dari postingan tersebut, H&M membuat pernyataan bahwa terjadi kerja paksa pada September 2020 lalu di pabrik mereka di Xinjiang, China.\n",
            "\n",
            "Selain itu, kelompok hak asasi manusia telah berulang kali menuduh Beijing menahan Uighur dan kelompok minoritas Muslim lainya, di mana mereka dipaksa untuk membuat produk yang dapat masuk ke teknologi global dan rantai pasokan ritel.\n",
            "\n",
            "Menurut Analis Bernstein Aneesha Sherman, 'badai' politik China kemungkinan akan berhenti dan saham H&M diprediksi naik satu persen. Sementara, saham Nike bisa meningkat sekitar 1,5 persen.\n",
            "\n",
            "China menyumbang sekitar lima persen dari penjualan H&M pada 2019. Sherman memperkirakan angka itu tumbuh sekitar 10 persen pada 2020 karena ekonomi China sudah pulih lebih cepat dari virus corona.\n",
            "\n",
            "\"Dalam tahun seperti ini, bahkan memotong lima persen dari garis atas adalah kesuksesan besar ketika H&M mencoba untuk pulih,\" kata Sherman.\n",
            "\n",
            "Merek-merek perusahaan fashion ternama lain, seperti Burberry bahkan lebih melesat sahamnya karena sifat masyarakat di China yang konsumtif.\n",
            "\n",
            "Ketegangan Amerika-China masih belum hilang sepeninggalan era Donald Trump.\n",
            "\n",
            "Setelah Joe Biden menjabat, ketegangan perang dagang kedua negara adidaya tersebut masih terjadi dan hal ini menciptakan tantangan bagi perusahaan Barat yang beroperasi di pasar China.\n",
            "\n",
            "[Gambas:Video CNN]\n",
            "\n",
            "\n",
            "\n",
            "\n",
            "\n",
            "\n"
          ]
        }
      ]
    },
    {
      "cell_type": "code",
      "metadata": {
        "colab": {
          "base_uri": "https://localhost:8080/"
        },
        "id": "SAo_zeOWUizd",
        "outputId": "ef0ccd1e-22b8-470b-ab13-f3c894db9fd9"
      },
      "source": [
        "article = Article(\"https://www.cnnindonesia.com/ekonomi/20210325180959-92-622187/china-boikot-nike-hingga-hm-karena-kritik-soal-uighur\")\n",
        "article.download()\n",
        "article.parse()\n",
        "article.nlp()\n",
        "corpus2 = article.text\n",
        "print(corpus2)"
      ],
      "execution_count": null,
      "outputs": [
        {
          "output_type": "stream",
          "name": "stdout",
          "text": [
            "Jakarta, CNN Indonesia --\n",
            "\n",
            "Warga China memboikot produk H&M, Nike, Adidas, dan beberapa produk ritel negara barat lainnya karena tak terima dengan kritik soal kerja paksa warga Uighur yang diduga terjadi di pabrik kapas di Provinsi Xinjiang.\n",
            "\n",
            "Melansir CNN Business, H&M, Nike, dan lainnya sudah menjadi 'bulan-bulanan' masyarakat China di media sosial Weibo dalam beberapa waktu terakhir.\n",
            "\n",
            "\"Pakaian H&M adalah pakaian usang. Mereka tidak pantas mendapatkan kapas Xinjiang,\" tulis salah satu komentar dari netizen China di Weibo, seperti dikutip Kamis (25/3).\n",
            "\n",
            "Sementara China People's Daily, salah satu media nasional di sana menyebut para peritel sejatinya mendapat untung besar di China, tapi justru menyerang negara dengan kebohongan.\n",
            "\n",
            "\"Kapas Xinjiang berwarna putih dan tanpa cacat. Mereka mendapatkan keuntungan besar di China, tetapi menyerang negara dengan kebohongan pada saat yang sama,\" tulis media tersebut.\n",
            "\n",
            "Boikot juga datang dari ambasador H&M China, Huang Xuan yang dikenal sebagai aktor. Ia telah menyatakan tidak lagi bekerja sama dengan H&M.\n",
            "\n",
            "Begitu juga dengan aktor Wang Yibo, yang juga memutus hubungan kerja dengan Nike. Ia juga menentang keras pernyataan yang mencoreng nama China.\n",
            "\n",
            "Bahkan, sejumlah e-commerce besar di negeri tirai bambu, seperti Alibaba dan JD.com dikabarkan sudah menghapus produk mereka di marketplace.\n",
            "\n",
            "Boikot muncul karena para produk ritel negara barat mengomentari dugaan kerja paksa di pabrik kapas di Xinjiang. Manajemen H&M sempat mengungkapkan keprihatinannya atas kabar kerja paksa di Xinjiang.\n",
            "\n",
            "Dalam pernyataannya, manajemen mengungkapkan bahwa perusahaan selalu menggunakan standar yang tinggi dan transparansi dalam rantai pasok globalnya. Saat ini, perusahaan tengah bekerja sama dengan lebih dari 350 produsen di China.\n",
            "\n",
            "\"Ini tidak mewakili posisi politik apapun. Grup H&M selalu menghormati konsumen China. Kami berkomitmen untuk investasi dan pembangunan jangka panjang di China,\" ungkap manajemen H&M.\n",
            "\n",
            "Sementara manajemen Nike pernah mengungkap keprihatinan atas isu kerja paksa di Xinjiang.\n",
            "\n",
            "\"Nike tidak mengambil produk dari (Xinjiang) dan kami telah mengonfirmasi dengan pemasok kontrak kami bahwa mereka tidak menggunakan tekstil atau benang pintal dari wilayah tersebut,\" tulis Nike dalam pernyataannya.\n",
            "\n",
            "Sebelumnya, komentar soal kerja paksa terhadap muslim Uighur sebenarnya bukan cuma datang dari perusahaan ritel negara barat, tapi juga pemerintahan mereka.\n",
            "\n",
            "Bahkan, Amerika Serikat, Inggris, dan Uni Eropa sempat memberi sanksi kepada China atas kabar kerja paksa itu. Pemerintah AS misalnya, sudah pernah mengumumkan pemblokiran atas impor kapas dari Xinjiang karena khawatir dengan isu kerja paksa tersebut.\n",
            "\n",
            "[Gambas:Video CNN]\n",
            "\n",
            "\n",
            "\n",
            "\n",
            "\n",
            "\n"
          ]
        }
      ]
    },
    {
      "cell_type": "code",
      "metadata": {
        "colab": {
          "base_uri": "https://localhost:8080/"
        },
        "id": "9zHh1Y0SUjRW",
        "outputId": "9c76edd6-4573-4a72-c670-48c6d9f8ffe7"
      },
      "source": [
        "article = Article(\"https://www.cnbcindonesia.com/lifestyle/20210329151917-33-233676/konsumen-china-boikot-hm-hingga-adidas-ini-penyebabnya\")\n",
        "article.download()\n",
        "article.parse()\n",
        "article.nlp()\n",
        "corpus3 = article.text\n",
        "print(corpus3)"
      ],
      "execution_count": null,
      "outputs": [
        {
          "output_type": "stream",
          "name": "stdout",
          "text": [
            "Jakarta, CNBC Indonesia - Beberapa produk ritel Barat, seperti H&M, Burberry, Nike dan Adidas, kini terkena boikot konsumen China. Hal itu terjadi sejak pekan lalu.\n",
            "\n",
            "Boikot tersebut dipicu atas komentar perusahaan soal kapas dari Xinjiang. Di mana mereka mengatakan tak akan menggunakan kapas dari provinsi itu lagi.\n",
            "\n",
            "Pasalnya, di area barat China itu, telah terjadi pelanggaran hak asasi manusia (HAM) terhadap etnis minoritas muslim, termasuk Uighur. Ini terkait laporan PBB pekan lalu yang berbuntut sanksi oleh Amerika Serikat (AS), Kanada, Inggris dan Eropa ke pejabat dan entitas Negeri Panda.\n",
            "\n",
            "Pejabat China mengecam sikap perusahaan asing yang memberi komentar. Menurut juru bicara pemerintah perusahaan seharusnya tidak boleh membuat langkah gegabah atau masuk ke politik karena akan memicu reaksi keras masyarakat.\n",
            "\n",
            "\"Saya tidak berpikir perusahaan harus mempolitisasi perilaku ekonominya,\" kata juru bicara pemerintah Xinjiang Xu Guixiang, pada konferensi pers pada Senin (29/3/2021) dilansir dari Reuters.\n",
            "\n",
            "\"Bisakah H&M terus menghasilkan uang di pasar China? Tidak lagi ... Untuk terburu-buru mengambil keputusan ini dan terlibat dalam sanksi tidak masuk akal. Ini seperti mengangkat batu untuk menjatuhkannya di atas kaki sendiri.\"\n",
            "\n",
            "Xu berulang kali juga menolak tuduhan genosida dan pelanggaran HAM di wilayah Xinjiang. Ia menuduh Barat terlibat dalam manipulasi politik untuk mengguncang China dengan sanksi tersebut.\n",
            "\n",
            "\"Mereka telah kehilangan akal sehat dan hati nurani mereka, mereka sangat antusias dengan manipulasi politik dan penyalahgunaan sanksi, hingga tingkat yang histeris,\" kata Xu lagi.\n",
            "\n",
            "Juru bicara pemerintah Xinjiang lainnya, Elijan Anayat, juga mengatakan demikian. Ia berujar konsumen China tidak menginginkan produk perusahaan seperti H&M dan Nike yang memboikot kapas Xinjiang.\n",
            "\n",
            "Namun dia mengatakan, akan menyambut perusahaan bila memang ingin melakukan perjalanan ke ladang kapas di kawasan itu. Terutama untuk melihat sendiri apa yang sebenarnya terjadi.\n",
            "\n",
            "\"Tujuan negara-negara barat mengarang isu genosida adalah untuk mengganggu keamanan dan stabilitas di China,\" kata Anayat.\n",
            "\n",
            "China memproduksi 22% kapas dunia. Laporan Center for Strategic and International Studies (CSIS) sekitar 84% ada di Xinjiang.\n",
            "\n",
            "\n",
            "\n",
            "Kemarin, produk Hugo Boss juga kena amukan netizen China. Tiga selebriti di Tiongkok melepaskan kontrak dengan rumah mode asal Jerman itu.\n"
          ]
        }
      ]
    },
    {
      "cell_type": "code",
      "metadata": {
        "colab": {
          "base_uri": "https://localhost:8080/",
          "height": 128
        },
        "id": "b5oXVdecUxu-",
        "outputId": "ed9b8a0a-5094-4729-b69d-14d6f616af6a"
      },
      "source": [
        "corpus = corpus1 + corpus2 + corpus3 \n",
        "corpus"
      ],
      "execution_count": null,
      "outputs": [
        {
          "output_type": "execute_result",
          "data": {
            "application/vnd.google.colaboratory.intrinsic+json": {
              "type": "string"
            },
            "text/plain": [
              "'Jakarta, CNN Indonesia --\\n\\nSaham produsen alas kaki atau sepatu Nike, Adidas, dan beberapa merek lainnya rontok usai China mem-boikot merek-merek fesyen barat. Saham merosot karena investor khawatir menaruh uang mereka ke perusahaan-perusahaan tersebut.\\n\\nMengutip CNN Business, saham Nike turun lebih dari tiga persen pada Kamis (25/3) waktu setempat di Wall Street, sedangkan saham Adidas tenggelam lebih dari enam persen di Frankfurt.\\n\\nSementara di London, Inggris, saham Burberry melorot lebih dari empat persen. Saham H&M juga terpantau turun dua persen di Swedia.\\n\\nBadai politik yang melanda China dipicu oleh postingan di media sosial dari sebuah kelompok yang berkaitan dengan Partai Komunis yang berkuasa.\\n\\nAkibat dari postingan tersebut, H&M membuat pernyataan bahwa terjadi kerja paksa pada September 2020 lalu di pabrik mereka di Xinjiang, China.\\n\\nSelain itu, kelompok hak asasi manusia telah berulang kali menuduh Beijing menahan Uighur dan kelompok minoritas Muslim lainya, di mana mereka dipaksa untuk membuat produk yang dapat masuk ke teknologi global dan rantai pasokan ritel.\\n\\nMenurut Analis Bernstein Aneesha Sherman, \\'badai\\' politik China kemungkinan akan berhenti dan saham H&M diprediksi naik satu persen. Sementara, saham Nike bisa meningkat sekitar 1,5 persen.\\n\\nChina menyumbang sekitar lima persen dari penjualan H&M pada 2019. Sherman memperkirakan angka itu tumbuh sekitar 10 persen pada 2020 karena ekonomi China sudah pulih lebih cepat dari virus corona.\\n\\n\"Dalam tahun seperti ini, bahkan memotong lima persen dari garis atas adalah kesuksesan besar ketika H&M mencoba untuk pulih,\" kata Sherman.\\n\\nMerek-merek perusahaan fashion ternama lain, seperti Burberry bahkan lebih melesat sahamnya karena sifat masyarakat di China yang konsumtif.\\n\\nKetegangan Amerika-China masih belum hilang sepeninggalan era Donald Trump.\\n\\nSetelah Joe Biden menjabat, ketegangan perang dagang kedua negara adidaya tersebut masih terjadi dan hal ini menciptakan tantangan bagi perusahaan Barat yang beroperasi di pasar China.\\n\\n[Gambas:Video CNN]\\n\\n\\n\\n\\n\\nJakarta, CNN Indonesia --\\n\\nWarga China memboikot produk H&M, Nike, Adidas, dan beberapa produk ritel negara barat lainnya karena tak terima dengan kritik soal kerja paksa warga Uighur yang diduga terjadi di pabrik kapas di Provinsi Xinjiang.\\n\\nMelansir CNN Business, H&M, Nike, dan lainnya sudah menjadi \\'bulan-bulanan\\' masyarakat China di media sosial Weibo dalam beberapa waktu terakhir.\\n\\n\"Pakaian H&M adalah pakaian usang. Mereka tidak pantas mendapatkan kapas Xinjiang,\" tulis salah satu komentar dari netizen China di Weibo, seperti dikutip Kamis (25/3).\\n\\nSementara China People\\'s Daily, salah satu media nasional di sana menyebut para peritel sejatinya mendapat untung besar di China, tapi justru menyerang negara dengan kebohongan.\\n\\n\"Kapas Xinjiang berwarna putih dan tanpa cacat. Mereka mendapatkan keuntungan besar di China, tetapi menyerang negara dengan kebohongan pada saat yang sama,\" tulis media tersebut.\\n\\nBoikot juga datang dari ambasador H&M China, Huang Xuan yang dikenal sebagai aktor. Ia telah menyatakan tidak lagi bekerja sama dengan H&M.\\n\\nBegitu juga dengan aktor Wang Yibo, yang juga memutus hubungan kerja dengan Nike. Ia juga menentang keras pernyataan yang mencoreng nama China.\\n\\nBahkan, sejumlah e-commerce besar di negeri tirai bambu, seperti Alibaba dan JD.com dikabarkan sudah menghapus produk mereka di marketplace.\\n\\nBoikot muncul karena para produk ritel negara barat mengomentari dugaan kerja paksa di pabrik kapas di Xinjiang. Manajemen H&M sempat mengungkapkan keprihatinannya atas kabar kerja paksa di Xinjiang.\\n\\nDalam pernyataannya, manajemen mengungkapkan bahwa perusahaan selalu menggunakan standar yang tinggi dan transparansi dalam rantai pasok globalnya. Saat ini, perusahaan tengah bekerja sama dengan lebih dari 350 produsen di China.\\n\\n\"Ini tidak mewakili posisi politik apapun. Grup H&M selalu menghormati konsumen China. Kami berkomitmen untuk investasi dan pembangunan jangka panjang di China,\" ungkap manajemen H&M.\\n\\nSementara manajemen Nike pernah mengungkap keprihatinan atas isu kerja paksa di Xinjiang.\\n\\n\"Nike tidak mengambil produk dari (Xinjiang) dan kami telah mengonfirmasi dengan pemasok kontrak kami bahwa mereka tidak menggunakan tekstil atau benang pintal dari wilayah tersebut,\" tulis Nike dalam pernyataannya.\\n\\nSebelumnya, komentar soal kerja paksa terhadap muslim Uighur sebenarnya bukan cuma datang dari perusahaan ritel negara barat, tapi juga pemerintahan mereka.\\n\\nBahkan, Amerika Serikat, Inggris, dan Uni Eropa sempat memberi sanksi kepada China atas kabar kerja paksa itu. Pemerintah AS misalnya, sudah pernah mengumumkan pemblokiran atas impor kapas dari Xinjiang karena khawatir dengan isu kerja paksa tersebut.\\n\\n[Gambas:Video CNN]\\n\\n\\n\\n\\n\\nJakarta, CNBC Indonesia - Beberapa produk ritel Barat, seperti H&M, Burberry, Nike dan Adidas, kini terkena boikot konsumen China. Hal itu terjadi sejak pekan lalu.\\n\\nBoikot tersebut dipicu atas komentar perusahaan soal kapas dari Xinjiang. Di mana mereka mengatakan tak akan menggunakan kapas dari provinsi itu lagi.\\n\\nPasalnya, di area barat China itu, telah terjadi pelanggaran hak asasi manusia (HAM) terhadap etnis minoritas muslim, termasuk Uighur. Ini terkait laporan PBB pekan lalu yang berbuntut sanksi oleh Amerika Serikat (AS), Kanada, Inggris dan Eropa ke pejabat dan entitas Negeri Panda.\\n\\nPejabat China mengecam sikap perusahaan asing yang memberi komentar. Menurut juru bicara pemerintah perusahaan seharusnya tidak boleh membuat langkah gegabah atau masuk ke politik karena akan memicu reaksi keras masyarakat.\\n\\n\"Saya tidak berpikir perusahaan harus mempolitisasi perilaku ekonominya,\" kata juru bicara pemerintah Xinjiang Xu Guixiang, pada konferensi pers pada Senin (29/3/2021) dilansir dari Reuters.\\n\\n\"Bisakah H&M terus menghasilkan uang di pasar China? Tidak lagi ... Untuk terburu-buru mengambil keputusan ini dan terlibat dalam sanksi tidak masuk akal. Ini seperti mengangkat batu untuk menjatuhkannya di atas kaki sendiri.\"\\n\\nXu berulang kali juga menolak tuduhan genosida dan pelanggaran HAM di wilayah Xinjiang. Ia menuduh Barat terlibat dalam manipulasi politik untuk mengguncang China dengan sanksi tersebut.\\n\\n\"Mereka telah kehilangan akal sehat dan hati nurani mereka, mereka sangat antusias dengan manipulasi politik dan penyalahgunaan sanksi, hingga tingkat yang histeris,\" kata Xu lagi.\\n\\nJuru bicara pemerintah Xinjiang lainnya, Elijan Anayat, juga mengatakan demikian. Ia berujar konsumen China tidak menginginkan produk perusahaan seperti H&M dan Nike yang memboikot kapas Xinjiang.\\n\\nNamun dia mengatakan, akan menyambut perusahaan bila memang ingin melakukan perjalanan ke ladang kapas di kawasan itu. Terutama untuk melihat sendiri apa yang sebenarnya terjadi.\\n\\n\"Tujuan negara-negara barat mengarang isu genosida adalah untuk mengganggu keamanan dan stabilitas di China,\" kata Anayat.\\n\\nChina memproduksi 22% kapas dunia. Laporan Center for Strategic and International Studies (CSIS) sekitar 84% ada di Xinjiang.\\n\\n\\n\\nKemarin, produk Hugo Boss juga kena amukan netizen China. Tiga selebriti di Tiongkok melepaskan kontrak dengan rumah mode asal Jerman itu.'"
            ]
          },
          "metadata": {},
          "execution_count": 9
        }
      ]
    },
    {
      "cell_type": "markdown",
      "metadata": {
        "id": "io0gQqT2U4pm"
      },
      "source": [
        "Tokenizing"
      ]
    },
    {
      "cell_type": "code",
      "metadata": {
        "colab": {
          "base_uri": "https://localhost:8080/"
        },
        "id": "Mf6A8f34U364",
        "outputId": "ca4413f4-6c2d-4faf-ee1c-7a429e3627fb"
      },
      "source": [
        "text = corpus\n",
        "sentence_list = nltk.sent_tokenize(text) #A list of senetences\n",
        "\n",
        "# Print the list of sentences\n",
        "print(sentence_list)"
      ],
      "execution_count": null,
      "outputs": [
        {
          "output_type": "stream",
          "name": "stdout",
          "text": [
            "['Jakarta, CNN Indonesia --\\n\\nSaham produsen alas kaki atau sepatu Nike, Adidas, dan beberapa merek lainnya rontok usai China mem-boikot merek-merek fesyen barat.', 'Saham merosot karena investor khawatir menaruh uang mereka ke perusahaan-perusahaan tersebut.', 'Mengutip CNN Business, saham Nike turun lebih dari tiga persen pada Kamis (25/3) waktu setempat di Wall Street, sedangkan saham Adidas tenggelam lebih dari enam persen di Frankfurt.', 'Sementara di London, Inggris, saham Burberry melorot lebih dari empat persen.', 'Saham H&M juga terpantau turun dua persen di Swedia.', 'Badai politik yang melanda China dipicu oleh postingan di media sosial dari sebuah kelompok yang berkaitan dengan Partai Komunis yang berkuasa.', 'Akibat dari postingan tersebut, H&M membuat pernyataan bahwa terjadi kerja paksa pada September 2020 lalu di pabrik mereka di Xinjiang, China.', 'Selain itu, kelompok hak asasi manusia telah berulang kali menuduh Beijing menahan Uighur dan kelompok minoritas Muslim lainya, di mana mereka dipaksa untuk membuat produk yang dapat masuk ke teknologi global dan rantai pasokan ritel.', \"Menurut Analis Bernstein Aneesha Sherman, 'badai' politik China kemungkinan akan berhenti dan saham H&M diprediksi naik satu persen.\", 'Sementara, saham Nike bisa meningkat sekitar 1,5 persen.', 'China menyumbang sekitar lima persen dari penjualan H&M pada 2019.', 'Sherman memperkirakan angka itu tumbuh sekitar 10 persen pada 2020 karena ekonomi China sudah pulih lebih cepat dari virus corona.', '\"Dalam tahun seperti ini, bahkan memotong lima persen dari garis atas adalah kesuksesan besar ketika H&M mencoba untuk pulih,\" kata Sherman.', 'Merek-merek perusahaan fashion ternama lain, seperti Burberry bahkan lebih melesat sahamnya karena sifat masyarakat di China yang konsumtif.', 'Ketegangan Amerika-China masih belum hilang sepeninggalan era Donald Trump.', 'Setelah Joe Biden menjabat, ketegangan perang dagang kedua negara adidaya tersebut masih terjadi dan hal ini menciptakan tantangan bagi perusahaan Barat yang beroperasi di pasar China.', '[Gambas:Video CNN]\\n\\n\\n\\n\\n\\nJakarta, CNN Indonesia --\\n\\nWarga China memboikot produk H&M, Nike, Adidas, dan beberapa produk ritel negara barat lainnya karena tak terima dengan kritik soal kerja paksa warga Uighur yang diduga terjadi di pabrik kapas di Provinsi Xinjiang.', \"Melansir CNN Business, H&M, Nike, dan lainnya sudah menjadi 'bulan-bulanan' masyarakat China di media sosial Weibo dalam beberapa waktu terakhir.\", '\"Pakaian H&M adalah pakaian usang.', 'Mereka tidak pantas mendapatkan kapas Xinjiang,\" tulis salah satu komentar dari netizen China di Weibo, seperti dikutip Kamis (25/3).', \"Sementara China People's Daily, salah satu media nasional di sana menyebut para peritel sejatinya mendapat untung besar di China, tapi justru menyerang negara dengan kebohongan.\", '\"Kapas Xinjiang berwarna putih dan tanpa cacat.', 'Mereka mendapatkan keuntungan besar di China, tetapi menyerang negara dengan kebohongan pada saat yang sama,\" tulis media tersebut.', 'Boikot juga datang dari ambasador H&M China, Huang Xuan yang dikenal sebagai aktor.', 'Ia telah menyatakan tidak lagi bekerja sama dengan H&M.', 'Begitu juga dengan aktor Wang Yibo, yang juga memutus hubungan kerja dengan Nike.', 'Ia juga menentang keras pernyataan yang mencoreng nama China.', 'Bahkan, sejumlah e-commerce besar di negeri tirai bambu, seperti Alibaba dan JD.com dikabarkan sudah menghapus produk mereka di marketplace.', 'Boikot muncul karena para produk ritel negara barat mengomentari dugaan kerja paksa di pabrik kapas di Xinjiang.', 'Manajemen H&M sempat mengungkapkan keprihatinannya atas kabar kerja paksa di Xinjiang.', 'Dalam pernyataannya, manajemen mengungkapkan bahwa perusahaan selalu menggunakan standar yang tinggi dan transparansi dalam rantai pasok globalnya.', 'Saat ini, perusahaan tengah bekerja sama dengan lebih dari 350 produsen di China.', '\"Ini tidak mewakili posisi politik apapun.', 'Grup H&M selalu menghormati konsumen China.', 'Kami berkomitmen untuk investasi dan pembangunan jangka panjang di China,\" ungkap manajemen H&M.', 'Sementara manajemen Nike pernah mengungkap keprihatinan atas isu kerja paksa di Xinjiang.', '\"Nike tidak mengambil produk dari (Xinjiang) dan kami telah mengonfirmasi dengan pemasok kontrak kami bahwa mereka tidak menggunakan tekstil atau benang pintal dari wilayah tersebut,\" tulis Nike dalam pernyataannya.', 'Sebelumnya, komentar soal kerja paksa terhadap muslim Uighur sebenarnya bukan cuma datang dari perusahaan ritel negara barat, tapi juga pemerintahan mereka.', 'Bahkan, Amerika Serikat, Inggris, dan Uni Eropa sempat memberi sanksi kepada China atas kabar kerja paksa itu.', 'Pemerintah AS misalnya, sudah pernah mengumumkan pemblokiran atas impor kapas dari Xinjiang karena khawatir dengan isu kerja paksa tersebut.', '[Gambas:Video CNN]\\n\\n\\n\\n\\n\\nJakarta, CNBC Indonesia - Beberapa produk ritel Barat, seperti H&M, Burberry, Nike dan Adidas, kini terkena boikot konsumen China.', 'Hal itu terjadi sejak pekan lalu.', 'Boikot tersebut dipicu atas komentar perusahaan soal kapas dari Xinjiang.', 'Di mana mereka mengatakan tak akan menggunakan kapas dari provinsi itu lagi.', 'Pasalnya, di area barat China itu, telah terjadi pelanggaran hak asasi manusia (HAM) terhadap etnis minoritas muslim, termasuk Uighur.', 'Ini terkait laporan PBB pekan lalu yang berbuntut sanksi oleh Amerika Serikat (AS), Kanada, Inggris dan Eropa ke pejabat dan entitas Negeri Panda.', 'Pejabat China mengecam sikap perusahaan asing yang memberi komentar.', 'Menurut juru bicara pemerintah perusahaan seharusnya tidak boleh membuat langkah gegabah atau masuk ke politik karena akan memicu reaksi keras masyarakat.', '\"Saya tidak berpikir perusahaan harus mempolitisasi perilaku ekonominya,\" kata juru bicara pemerintah Xinjiang Xu Guixiang, pada konferensi pers pada Senin (29/3/2021) dilansir dari Reuters.', '\"Bisakah H&M terus menghasilkan uang di pasar China?', 'Tidak lagi ... Untuk terburu-buru mengambil keputusan ini dan terlibat dalam sanksi tidak masuk akal.', 'Ini seperti mengangkat batu untuk menjatuhkannya di atas kaki sendiri.\"', 'Xu berulang kali juga menolak tuduhan genosida dan pelanggaran HAM di wilayah Xinjiang.', 'Ia menuduh Barat terlibat dalam manipulasi politik untuk mengguncang China dengan sanksi tersebut.', '\"Mereka telah kehilangan akal sehat dan hati nurani mereka, mereka sangat antusias dengan manipulasi politik dan penyalahgunaan sanksi, hingga tingkat yang histeris,\" kata Xu lagi.', 'Juru bicara pemerintah Xinjiang lainnya, Elijan Anayat, juga mengatakan demikian.', 'Ia berujar konsumen China tidak menginginkan produk perusahaan seperti H&M dan Nike yang memboikot kapas Xinjiang.', 'Namun dia mengatakan, akan menyambut perusahaan bila memang ingin melakukan perjalanan ke ladang kapas di kawasan itu.', 'Terutama untuk melihat sendiri apa yang sebenarnya terjadi.', '\"Tujuan negara-negara barat mengarang isu genosida adalah untuk mengganggu keamanan dan stabilitas di China,\" kata Anayat.', 'China memproduksi 22% kapas dunia.', 'Laporan Center for Strategic and International Studies (CSIS) sekitar 84% ada di Xinjiang.', 'Kemarin, produk Hugo Boss juga kena amukan netizen China.', 'Tiga selebriti di Tiongkok melepaskan kontrak dengan rumah mode asal Jerman itu.']\n"
          ]
        }
      ]
    },
    {
      "cell_type": "markdown",
      "metadata": {
        "id": "0Ltc0JwHVJrA"
      },
      "source": [
        "Greeting"
      ]
    },
    {
      "cell_type": "code",
      "metadata": {
        "id": "UcWzsbZ_VLwn"
      },
      "source": [
        "def greeting_response(text):\n",
        "  text = text.lower()\n",
        "\n",
        "  ### bot greeting \n",
        "  bot_greet = ['halo', 'selamat datang', 'hai', 'silahkan '] \n",
        "\n",
        "  ### user greeting \n",
        "  user_greet= ['halo', 'pagi', 'siang', 'malam', 'test', 'hai']  \n",
        "\n",
        "  for word in text.split(): \n",
        "    if word in user_greet:\n",
        "      return random.choice(bot_greet)\n",
        "\n",
        "  def gratitude_response(text): \n",
        "    text = text.lower() "
      ],
      "execution_count": null,
      "outputs": []
    },
    {
      "cell_type": "markdown",
      "metadata": {
        "id": "TjrAlfnmVPEN"
      },
      "source": [
        "sorting"
      ]
    },
    {
      "cell_type": "code",
      "metadata": {
        "id": "QAFx-OBrVOuX"
      },
      "source": [
        "def index_sort(list_var):\n",
        "    length = len(list_var)\n",
        "    list_index = list(range(0, length))\n",
        "    \n",
        "    x = list_var        \n",
        "    for i in range(length):\n",
        "        for j in range(length):\n",
        "            if x[list_index[i]] > x[list_index[j]]:\n",
        "                #swap\n",
        "                temp = list_index[i]\n",
        "                list_index[i] = list_index[j]\n",
        "                list_index[j] = temp\n",
        "                \n",
        "    return list_index"
      ],
      "execution_count": null,
      "outputs": []
    },
    {
      "cell_type": "markdown",
      "metadata": {
        "id": "6JX_5KxPVR1L"
      },
      "source": [
        "COSINE SIM"
      ]
    },
    {
      "cell_type": "code",
      "metadata": {
        "id": "wECOINPgVXp8"
      },
      "source": [
        "### bot response \n",
        "def bot_response(user_input): \n",
        "  user_input = user_input.lower()\n",
        "  sentence_list.append(user_input)\n",
        "  bot_response= ''\n",
        "  \n",
        "  cm = CountVectorizer().fit_transform(sentence_list)\n",
        "\n",
        "  similarity_scores=cosine_similarity(cm[-1],cm) \n",
        "  similarity_scores_list=similarity_scores.flatten() \n",
        "  index=index_sort(similarity_scores_list)\n",
        "  index=index[1:]\n",
        "\n",
        "  response_flag=0 \n",
        "  for i in range(len(index)):\n",
        "      if similarity_scores_list[index[i]]>0.0:\n",
        "            bot_response=bot_response+' '+sentence_list[index[i]]\n",
        "            response_flag=1\n",
        "\n",
        "      if response_flag==0:\n",
        "            bot_response=bot_response+\" \"+\"Maaf saya tidak mengerti\" \n",
        "\n",
        "      sentence_list.remove(user_input) \n",
        "\n",
        "      return bot_response"
      ],
      "execution_count": null,
      "outputs": []
    },
    {
      "cell_type": "markdown",
      "metadata": {
        "id": "PZ1hArdZVrwE"
      },
      "source": [
        "Making Chat Box"
      ]
    },
    {
      "cell_type": "code",
      "metadata": {
        "colab": {
          "base_uri": "https://localhost:8080/"
        },
        "id": "FPldqXfyVrW5",
        "outputId": "2f021fad-fec3-4e28-fec5-0a946ba7c729"
      },
      "source": [
        "print('Halo selamat datang di Berita Saham, silahkan bertanya tentang Saham')\n",
        "\n",
        "### exit list \n",
        "exit_list = ['exit ', 'selesai', 'sampai jumpa', 'akhiri']\n",
        "\n",
        "while(True): \n",
        "  user_input = input()\n",
        "  if user_input in exit_list :\n",
        "    print('Terimakasih sudah menggunakan Berita Saham')\n",
        "    break \n",
        "  else : \n",
        "    if greeting_response(user_input)!= None: \n",
        "      print('Berita Saham: '+ greeting_response(user_input)) \n",
        "    else:\n",
        "      print('Berita Saham: '+ bot_response(user_input)) "
      ],
      "execution_count": null,
      "outputs": [
        {
          "metadata": {
            "tags": null
          },
          "name": "stdout",
          "output_type": "stream",
          "text": [
            "Halo selamat datang di Berita Saham, silahkan bertanya tentang Saham\n"
          ]
        }
      ]
    }
  ]
}